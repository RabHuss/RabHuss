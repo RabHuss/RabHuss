{
  "nbformat": 4,
  "nbformat_minor": 0,
  "metadata": {
    "colab": {
      "provenance": [],
      "authorship_tag": "ABX9TyM7jAsdevGOCHNawrAumRi/",
      "include_colab_link": true
    },
    "kernelspec": {
      "name": "python3",
      "display_name": "Python 3"
    },
    "language_info": {
      "name": "python"
    }
  },
  "cells": [
    {
      "cell_type": "markdown",
      "metadata": {
        "id": "view-in-github",
        "colab_type": "text"
      },
      "source": [
        "<a href=\"https://colab.research.google.com/github/RabHuss/RabHuss/blob/main/Week_3_COVI3_01_FE_57474260.ipynb\" target=\"_parent\"><img src=\"https://colab.research.google.com/assets/colab-badge.svg\" alt=\"Open In Colab\"/></a>"
      ]
    },
    {
      "cell_type": "markdown",
      "source": [],
      "metadata": {
        "id": "UXSP-VFoOB9j"
      }
    },
    {
      "cell_type": "code",
      "source": [
        "import torch\n",
        "\n",
        "def customperm(a, b, c):\n",
        "    \"\"\"\n",
        "    Generates a tensor of shape (a, b) with random permutations of numbers between 0 and c.\n",
        "\n",
        "    Parameters:\n",
        "    a (int): Number of rows\n",
        "    b (int): Number of columns\n",
        "    c (int): Maximum value for permutation\n",
        "\n",
        "    Returns:\n",
        "    torch.Tensor: A tensor of shape (a, b) containing random permutations.\n",
        "    \"\"\"\n",
        "    return torch.randint(0, c + 1, (a, b))\n",
        "\n",
        "# Test the function with given values\n",
        "result = customperm(3, 4, 20)\n",
        "print(result)"
      ],
      "metadata": {
        "colab": {
          "base_uri": "https://localhost:8080/"
        },
        "id": "Bkf4D4drOCxX",
        "outputId": "d36867bd-a118-4cf2-cb62-9d28c9285620"
      },
      "execution_count": null,
      "outputs": [
        {
          "output_type": "stream",
          "name": "stdout",
          "text": [
            "tensor([[12,  4,  7, 11],\n",
            "        [10,  4, 18, 19],\n",
            "        [11,  1, 14,  4]])\n"
          ]
        }
      ]
    }
  ]
}