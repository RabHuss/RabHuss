{
  "nbformat": 4,
  "nbformat_minor": 0,
  "metadata": {
    "colab": {
      "provenance": [],
      "authorship_tag": "ABX9TyMXJrrNryemvRux263qvJ/H",
      "include_colab_link": true
    },
    "kernelspec": {
      "name": "python3",
      "display_name": "Python 3"
    },
    "language_info": {
      "name": "python"
    }
  },
  "cells": [
    {
      "cell_type": "markdown",
      "metadata": {
        "id": "view-in-github",
        "colab_type": "text"
      },
      "source": [
        "<a href=\"https://colab.research.google.com/github/RabHuss/RabHuss/blob/main/week_2_COVI02_01_FE_23_57474260.ipynb\" target=\"_parent\"><img src=\"https://colab.research.google.com/assets/colab-badge.svg\" alt=\"Open In Colab\"/></a>"
      ]
    },
    {
      "cell_type": "markdown",
      "source": [
        "You will be performing some basic programming foundations with Tensors"
      ],
      "metadata": {
        "id": "zQMdUxDkaaNc"
      }
    },
    {
      "cell_type": "code",
      "source": [
        "#import libraries\n",
        "import cv2 as cv\n",
        "import numpy as np\n",
        "import torch"
      ],
      "metadata": {
        "id": "u_P8LSgZabTM"
      },
      "execution_count": 1,
      "outputs": []
    },
    {
      "cell_type": "code",
      "source": [
        "# create a Tensor of dimension (12,23, 3) name as tensorA, all numbers should be positive.\n",
        "\n",
        "tensorA = torch.randint(1, 10, (12, 23, 3))  # Random positive numbers from 1 to 9\n",
        "\n"
      ],
      "metadata": {
        "id": "pdlpnGtMbGSv"
      },
      "execution_count": 2,
      "outputs": []
    },
    {
      "cell_type": "code",
      "source": [
        "# create a Tensor of dimension (3, 4 ) name as tensorB, all numbers should be positive.\n",
        "\n",
        "tensorB = torch.randint(1, 10, (3, 4))  # Random positive numbers from 1 to 9\n"
      ],
      "metadata": {
        "id": "Hn5IpyZ4bML1"
      },
      "execution_count": 3,
      "outputs": []
    },
    {
      "cell_type": "code",
      "source": [
        "# do a multiplication broadcast of tensorA and tensorB, call it tensorC\n",
        "\n",
        "tensorC = tensorA * tensorB  # Broadcasting multiplication\n"
      ],
      "metadata": {
        "colab": {
          "base_uri": "https://localhost:8080/",
          "height": 176
        },
        "id": "CB9ZI1CKbPmk",
        "outputId": "aaa27d1e-18c4-4092-ad41-81e8ca1eab0c"
      },
      "execution_count": 4,
      "outputs": [
        {
          "output_type": "error",
          "ename": "RuntimeError",
          "evalue": "The size of tensor a (3) must match the size of tensor b (4) at non-singleton dimension 2",
          "traceback": [
            "\u001b[0;31m---------------------------------------------------------------------------\u001b[0m",
            "\u001b[0;31mRuntimeError\u001b[0m                              Traceback (most recent call last)",
            "\u001b[0;32m<ipython-input-4-381986c8a411>\u001b[0m in \u001b[0;36m<cell line: 0>\u001b[0;34m()\u001b[0m\n\u001b[1;32m      1\u001b[0m \u001b[0;31m# do a multiplication broadcast of tensorA and tensorB, call it tensorC\u001b[0m\u001b[0;34m\u001b[0m\u001b[0;34m\u001b[0m\u001b[0m\n\u001b[1;32m      2\u001b[0m \u001b[0;34m\u001b[0m\u001b[0m\n\u001b[0;32m----> 3\u001b[0;31m \u001b[0mtensorC\u001b[0m \u001b[0;34m=\u001b[0m \u001b[0mtensorA\u001b[0m \u001b[0;34m*\u001b[0m \u001b[0mtensorB\u001b[0m  \u001b[0;31m# Broadcasting multiplication\u001b[0m\u001b[0;34m\u001b[0m\u001b[0;34m\u001b[0m\u001b[0m\n\u001b[0m",
            "\u001b[0;31mRuntimeError\u001b[0m: The size of tensor a (3) must match the size of tensor b (4) at non-singleton dimension 2"
          ]
        }
      ]
    },
    {
      "cell_type": "code",
      "source": [
        "tensorB = torch.randint(1, 10, (1, 3))  # Adjust shape for broadcasting\n",
        "tensorC = tensorA * tensorB  # Broadcasting"
      ],
      "metadata": {
        "id": "ASp8HlSvbS9F"
      },
      "execution_count": 5,
      "outputs": []
    },
    {
      "cell_type": "code",
      "source": [
        "# what is the shape of the resulting broadcast (tensorC)\n",
        "\n",
        "tensorB = torch.randint(1, 10, (1, 3))  # Adjust shape for broadcasting\n",
        "tensorC = tensorA * tensorB\n"
      ],
      "metadata": {
        "id": "S692NhZAbXE9"
      },
      "execution_count": 6,
      "outputs": []
    },
    {
      "cell_type": "markdown",
      "source": [
        "The resulting shape of tensorC will be (12, 23, 3)."
      ],
      "metadata": {
        "id": "JHmSVHVFbjIc"
      }
    }
  ]
}