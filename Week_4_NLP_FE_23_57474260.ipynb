{
  "nbformat": 4,
  "nbformat_minor": 0,
  "metadata": {
    "colab": {
      "provenance": [],
      "authorship_tag": "ABX9TyOI0QMgQNcH3JCSpTCB3VMQ",
      "include_colab_link": true
    },
    "kernelspec": {
      "name": "python3",
      "display_name": "Python 3"
    },
    "language_info": {
      "name": "python"
    }
  },
  "cells": [
    {
      "cell_type": "markdown",
      "metadata": {
        "id": "view-in-github",
        "colab_type": "text"
      },
      "source": [
        "<a href=\"https://colab.research.google.com/github/RabHuss/RabHuss/blob/main/Week_4_NLP_FE_23_57474260.ipynb\" target=\"_parent\"><img src=\"https://colab.research.google.com/assets/colab-badge.svg\" alt=\"Open In Colab\"/></a>"
      ]
    },
    {
      "cell_type": "markdown",
      "source": [
        "ASSIGNMENT 1\n",
        "\n",
        "1. Define Natural Language Processing (NLP) in your own words.\n",
        "Natural Language Processing (NLP) is a field of artificial intelligence that focuses on enabling machines to understand, interpret, and respond to human language in a way that is both meaningful and useful.\n",
        "\n",
        "2. List at least three real-world applications of NLP and explain their significance.\n",
        "\n",
        "Chatbots and Virtual Assistants: Tools like Siri, Alexa, and customer service bots use NLP to understand and respond to user queries, making human-computer interactions more natural and efficient.\n",
        "\n",
        "Language Translation: Applications like Google Translate use NLP to convert text from one language to another, bridging communication gaps across the world.\n",
        "\n",
        "Sentiment Analysis: Used in social media monitoring or customer feedback analysis to determine whether a message is positive, negative, or neutral, helping businesses understand public opinion and improve their services.\n",
        "\n",
        "3. Identify and explain two challenges that make NLP complex.\n",
        "\n",
        "Ambiguity in Language: Words and sentences can have multiple meanings depending on context, making it hard for machines to interpret the correct meaning.\n",
        "\n",
        "Variability in Expression: The same idea can be expressed in countless different ways due to dialects, slang, grammar, or spelling errors, making consistent understanding difficult.\n",
        "\n"
      ],
      "metadata": {
        "id": "woT6dTusIhPX"
      }
    },
    {
      "cell_type": "markdown",
      "source": [
        "4. Extract the following patterns using regex:\n",
        "\n",
        "a) All email addresses from the text below:\n",
        "“Contact us at support@company.com or sales@business.org. For more, email info@service.net.”"
      ],
      "metadata": {
        "id": "aVA-Z3RPI1_3"
      }
    },
    {
      "cell_type": "code",
      "source": [
        "import re\n",
        "\n",
        "text = \"Contact us at support@company.com or sales@business.org. For more, email info@service.net.\"\n",
        "emails = re.findall(r'\\b[\\w.-]+@[\\w.-]+\\.\\w+\\b', text)\n",
        "print(emails)\n"
      ],
      "metadata": {
        "colab": {
          "base_uri": "https://localhost:8080/"
        },
        "id": "2SsatWDlJF3f",
        "outputId": "8019c12d-0729-4d99-cc9f-f382eede24a3"
      },
      "execution_count": 1,
      "outputs": [
        {
          "output_type": "stream",
          "name": "stdout",
          "text": [
            "['support@company.com', 'sales@business.org', 'info@service.net']\n"
          ]
        }
      ]
    },
    {
      "cell_type": "markdown",
      "source": [
        "b) All words that end with \"ing\": from this sentence:\n",
        "“NLP is amazing for cleaning and processing text while learning new\n",
        "techniques.”"
      ],
      "metadata": {
        "id": "LypB_Ib7JheO"
      }
    },
    {
      "cell_type": "code",
      "source": [
        "sentence = \"NLP is amazing for cleaning and processing text while learning new techniques.\"\n",
        "ing_words = re.findall(r'\\b\\w+ing\\b', sentence)\n",
        "print(ing_words)\n"
      ],
      "metadata": {
        "colab": {
          "base_uri": "https://localhost:8080/"
        },
        "id": "5EUKQI2AJoWP",
        "outputId": "255be47c-2d6c-48ec-f4c9-fac2d9f2e076"
      },
      "execution_count": 2,
      "outputs": [
        {
          "output_type": "stream",
          "name": "stdout",
          "text": [
            "['amazing', 'cleaning', 'processing', 'learning']\n"
          ]
        }
      ]
    },
    {
      "cell_type": "markdown",
      "source": [
        "5. Write a Python program to clean the following text by:\n",
        "“NLP makes AI smarter! But, sometimes, it’s challenging… Don’t you agree?”\n",
        "\n",
        "a) Removing all punctuation.\n",
        "b) Converting it to lowercase.\n",
        "c) Splitting it into words."
      ],
      "metadata": {
        "id": "8CZXSwLlKEKu"
      }
    },
    {
      "cell_type": "code",
      "source": [
        "import string\n",
        "\n",
        "text = \"NLP makes AI smarter! But, sometimes, it’s challenging… Don’t you agree?\"\n",
        "\n",
        "# a) Remove all punctuation\n",
        "text_no_punct = text.translate(str.maketrans('', '', string.punctuation + '’…'))\n",
        "\n",
        "# b) Convert to lowercase\n",
        "text_lower = text_no_punct.lower()\n",
        "\n",
        "# c) Split into words\n",
        "words = text_lower.split()\n",
        "\n",
        "print(words)\n"
      ],
      "metadata": {
        "colab": {
          "base_uri": "https://localhost:8080/"
        },
        "id": "tlLNcnIMKFtP",
        "outputId": "d471b366-b346-4621-9f6b-9533bd4c53d8"
      },
      "execution_count": 3,
      "outputs": [
        {
          "output_type": "stream",
          "name": "stdout",
          "text": [
            "['nlp', 'makes', 'ai', 'smarter', 'but', 'sometimes', 'its', 'challenging', 'dont', 'you', 'agree']\n"
          ]
        }
      ]
    },
    {
      "cell_type": "markdown",
      "source": [
        "ASSIGNMENT 2\n",
        "\n",
        "1. Text Cleaning Task\n",
        "Apply text cleaning techniques to preprocess the following text:\n",
        "\"OMG!! NLP is soooo coool 🤩...!!! It costs $1000. Learn it now at https://3mtt.com 😎.\"\n",
        "Refer to the course slide for more information"
      ],
      "metadata": {
        "id": "rdTDqwj8Ki2Z"
      }
    },
    {
      "cell_type": "code",
      "source": [
        "import re\n",
        "\n",
        "text = \"OMG!! NLP is soooo coool 🤩...!!! It costs $1000. Learn it now at https://3mtt.com 😎.\"\n",
        "\n",
        "# Remove emojis\n",
        "text = re.sub(r'[^\\w\\s.,!?]', '', text)\n",
        "\n",
        "# Remove URLs\n",
        "text = re.sub(r'http\\S+', '', text)\n",
        "\n",
        "# Convert to lowercase\n",
        "text = text.lower()\n",
        "\n",
        "# Remove special characters and digits\n",
        "text = re.sub(r'[^a-z\\s]', '', text)\n",
        "\n",
        "# Normalize elongated words (e.g., soooo -> so)\n",
        "text = re.sub(r'(.)\\1{2,}', r'\\1', text)\n",
        "\n",
        "# Remove extra spaces\n",
        "cleaned_text = re.sub(r'\\s+', ' ', text).strip()\n",
        "\n",
        "print(\"Cleaned Text:\", cleaned_text)\n"
      ],
      "metadata": {
        "colab": {
          "base_uri": "https://localhost:8080/"
        },
        "id": "BwDrxKAfLBJ9",
        "outputId": "321d1abc-44cc-4c67-d29d-3676ff47e8dd"
      },
      "execution_count": 4,
      "outputs": [
        {
          "output_type": "stream",
          "name": "stdout",
          "text": [
            "Cleaned Text: omg nlp is so col it costs learn it now at\n"
          ]
        }
      ]
    },
    {
      "cell_type": "markdown",
      "source": [
        "2. Tokenization Task\n",
        "Text:\n",
        "\"Tokenization is the first step in NLP. It splits text into smaller pieces for analysis.\"\n",
        "\n",
        "a) Word Tokenization using NLTK"
      ],
      "metadata": {
        "id": "wxsCN5LKLNKW"
      }
    },
    {
      "source": [
        "import nltk\n",
        "from nltk.tokenize import word_tokenize\n",
        "\n",
        "# Download the punkt_tab resource\n",
        "nltk.download('punkt_tab')\n",
        "\n",
        "text = \"Tokenization is the first step in NLP. It splits text into smaller pieces for analysis.\"\n",
        "\n",
        "word_tokens = word_tokenize(text)\n",
        "print(\"Word Tokens:\", word_tokens)"
      ],
      "cell_type": "code",
      "metadata": {
        "colab": {
          "base_uri": "https://localhost:8080/"
        },
        "id": "b1ziWUV7LuCu",
        "outputId": "a4331548-3647-4be2-ba52-9f1cbeb8cce5"
      },
      "execution_count": 6,
      "outputs": [
        {
          "output_type": "stream",
          "name": "stderr",
          "text": [
            "[nltk_data] Downloading package punkt_tab to /root/nltk_data...\n",
            "[nltk_data]   Unzipping tokenizers/punkt_tab.zip.\n"
          ]
        },
        {
          "output_type": "stream",
          "name": "stdout",
          "text": [
            "Word Tokens: ['Tokenization', 'is', 'the', 'first', 'step', 'in', 'NLP', '.', 'It', 'splits', 'text', 'into', 'smaller', 'pieces', 'for', 'analysis', '.']\n"
          ]
        }
      ]
    },
    {
      "cell_type": "markdown",
      "source": [
        "b) Sentence Tokenization using NLTK"
      ],
      "metadata": {
        "id": "Mc5RXe3jL8S3"
      }
    },
    {
      "cell_type": "code",
      "source": [
        "from nltk.tokenize import sent_tokenize\n",
        "\n",
        "sentence_tokens = sent_tokenize(text)\n",
        "print(\"Sentence Tokens:\", sentence_tokens)\n"
      ],
      "metadata": {
        "colab": {
          "base_uri": "https://localhost:8080/"
        },
        "id": "Q5s1W_y5L99A",
        "outputId": "81f54025-579e-4afc-de78-9ff072cbd191"
      },
      "execution_count": 7,
      "outputs": [
        {
          "output_type": "stream",
          "name": "stdout",
          "text": [
            "Sentence Tokens: ['Tokenization is the first step in NLP.', 'It splits text into smaller pieces for analysis.']\n"
          ]
        }
      ]
    },
    {
      "cell_type": "markdown",
      "source": [
        "\n",
        "Stemming and Lemmatization Task\n",
        "Apply stemming and lemmatization techniques to a list of words:\n",
        "[\"running\", \"flies\", \"studies\", \"easily\", \"studying\", \"better\"]\n",
        "o Use Porter Stemmer to perform stemming on the words.\n",
        "o Use spaCy to perform lemmatization on the same words."
      ],
      "metadata": {
        "id": "1OatAFi9MS1_"
      }
    },
    {
      "cell_type": "markdown",
      "source": [
        "Word List:"
      ],
      "metadata": {
        "id": "DbqXjhANMZTP"
      }
    },
    {
      "cell_type": "code",
      "source": [
        "words = [\"running\", \"flies\", \"studies\", \"easily\", \"studying\", \"better\"]\n"
      ],
      "metadata": {
        "id": "vfHyMmD5MdRX"
      },
      "execution_count": 8,
      "outputs": []
    },
    {
      "cell_type": "markdown",
      "source": [
        "1. Stemming using PorterStemmer (NLTK)"
      ],
      "metadata": {
        "id": "lCehD2DoMlln"
      }
    },
    {
      "cell_type": "code",
      "source": [
        "from nltk.stem import PorterStemmer\n",
        "\n",
        "stemmer = PorterStemmer()\n",
        "\n",
        "stemmed_words = [stemmer.stem(word) for word in words]\n",
        "print(\"Stemmed Words:\", stemmed_words)\n"
      ],
      "metadata": {
        "colab": {
          "base_uri": "https://localhost:8080/"
        },
        "id": "Oy5mBxXZMmxP",
        "outputId": "5d51d13d-6339-4ef3-a33c-1221565359cc"
      },
      "execution_count": 9,
      "outputs": [
        {
          "output_type": "stream",
          "name": "stdout",
          "text": [
            "Stemmed Words: ['run', 'fli', 'studi', 'easili', 'studi', 'better']\n"
          ]
        }
      ]
    },
    {
      "cell_type": "markdown",
      "source": [
        "2. Lemmatization using spaCy"
      ],
      "metadata": {
        "id": "h9vbSU19MqvP"
      }
    },
    {
      "cell_type": "code",
      "source": [
        "import spacy\n",
        "\n",
        "# Load the English language model\n",
        "nlp = spacy.load(\"en_core_web_sm\")\n",
        "\n",
        "lemmatized_words = [token.lemma_ for token in nlp(\" \".join(words))]\n",
        "print(\"Lemmatized Words:\", lemmatized_words)\n"
      ],
      "metadata": {
        "colab": {
          "base_uri": "https://localhost:8080/"
        },
        "id": "bYrdbGL4Mwh3",
        "outputId": "d7c266ae-1099-4d72-d280-a09ed29014d9"
      },
      "execution_count": 10,
      "outputs": [
        {
          "output_type": "stream",
          "name": "stdout",
          "text": [
            "Lemmatized Words: ['run', 'fly', 'study', 'easily', 'study', 'well']\n"
          ]
        }
      ]
    },
    {
      "cell_type": "markdown",
      "source": [
        "ASSIGNMENT 3\n",
        "\n",
        "Define a vocabulary of at least 5 unique words. Write Python code to\n",
        "generate one-hot encoded vectors for your vocabulary.\n",
        "2. Use the following sentences as your dataset:\n",
        "– Write Python code to generate a Bag of Words representation for the\n",
        "dataset using CountVectorizer.\n",
        "– Write Python code to compute the TF-IDF representation using\n",
        "TfidfVectorizer.\n",
        "\n",
        "Week 4: Fundamentals of Natural Language Processing\n",
        "\n",
        "● “The quick brown fox jumps over the lazy dog.”\n",
        "\n",
        "● “The dog sleeps in the kernel”"
      ],
      "metadata": {
        "id": "MvNY-kE9NJOG"
      }
    },
    {
      "cell_type": "markdown",
      "source": [
        "1. One-Hot Encoding for a Vocabulary of 5 Unique Words\n",
        "Vocabulary:\n",
        "\n",
        "One-hot encoding using sklearn.preprocessing.LabelBinarizer:"
      ],
      "metadata": {
        "id": "DWqvr1zNNqA2"
      }
    },
    {
      "cell_type": "code",
      "source": [
        "vocab = [\"dog\", \"cat\", \"fox\", \"jumps\", \"sleep\"]\n",
        "\n",
        "from sklearn.preprocessing import LabelBinarizer\n",
        "\n",
        "vocab = [\"dog\", \"cat\", \"fox\", \"jumps\", \"sleep\"]\n",
        "encoder = LabelBinarizer()\n",
        "one_hot_vectors = encoder.fit_transform(vocab)\n",
        "\n",
        "for word, vector in zip(vocab, one_hot_vectors):\n",
        "    print(f\"{word}: {vector}\")\n"
      ],
      "metadata": {
        "colab": {
          "base_uri": "https://localhost:8080/"
        },
        "id": "1iBj4MtbN68n",
        "outputId": "ad9603b9-8483-4cd7-a87e-a3964b0cf7f4"
      },
      "execution_count": 11,
      "outputs": [
        {
          "output_type": "stream",
          "name": "stdout",
          "text": [
            "dog: [0 1 0 0 0]\n",
            "cat: [1 0 0 0 0]\n",
            "fox: [0 0 1 0 0]\n",
            "jumps: [0 0 0 1 0]\n",
            "sleep: [0 0 0 0 1]\n"
          ]
        }
      ]
    },
    {
      "cell_type": "markdown",
      "source": [
        "2. Dataset for BoW and TF-IDF\n",
        "\n",
        "a) Bag of Words using CountVectorizer"
      ],
      "metadata": {
        "id": "WmVr4Do1ORbH"
      }
    },
    {
      "cell_type": "code",
      "source": [
        "dataset = [\n",
        "    \"The quick brown fox jumps over the lazy dog.\",\n",
        "    \"The dog sleeps in the kernel\"\n",
        "]\n",
        "\n",
        "from sklearn.feature_extraction.text import CountVectorizer\n",
        "\n",
        "count_vectorizer = CountVectorizer()\n",
        "bow = count_vectorizer.fit_transform(dataset)\n",
        "\n",
        "print(\"Vocabulary:\", count_vectorizer.get_feature_names_out())\n",
        "print(\"BoW Matrix:\\n\", bow.toarray())\n"
      ],
      "metadata": {
        "colab": {
          "base_uri": "https://localhost:8080/"
        },
        "id": "z1JDEYo8OZ9_",
        "outputId": "9a28ecea-bfb3-41b2-e167-a01dc55f51e9"
      },
      "execution_count": 12,
      "outputs": [
        {
          "output_type": "stream",
          "name": "stdout",
          "text": [
            "Vocabulary: ['brown' 'dog' 'fox' 'in' 'jumps' 'kernel' 'lazy' 'over' 'quick' 'sleeps'\n",
            " 'the']\n",
            "BoW Matrix:\n",
            " [[1 1 1 0 1 0 1 1 1 0 2]\n",
            " [0 1 0 1 0 1 0 0 0 1 2]]\n"
          ]
        }
      ]
    },
    {
      "cell_type": "markdown",
      "source": [
        "b) TF-IDF using TfidfVectorizer"
      ],
      "metadata": {
        "id": "uhqkSOetOl4f"
      }
    },
    {
      "cell_type": "code",
      "source": [
        "from sklearn.feature_extraction.text import TfidfVectorizer\n",
        "\n",
        "tfidf_vectorizer = TfidfVectorizer()\n",
        "tfidf = tfidf_vectorizer.fit_transform(dataset)\n",
        "\n",
        "print(\"Vocabulary:\", tfidf_vectorizer.get_feature_names_out())\n",
        "print(\"TF-IDF Matrix:\\n\", tfidf.toarray())\n"
      ],
      "metadata": {
        "colab": {
          "base_uri": "https://localhost:8080/"
        },
        "id": "qowXMLwdOn7G",
        "outputId": "abfd7e04-eed0-4a00-d794-ddb5e1f2a625"
      },
      "execution_count": 13,
      "outputs": [
        {
          "output_type": "stream",
          "name": "stdout",
          "text": [
            "Vocabulary: ['brown' 'dog' 'fox' 'in' 'jumps' 'kernel' 'lazy' 'over' 'quick' 'sleeps'\n",
            " 'the']\n",
            "TF-IDF Matrix:\n",
            " [[0.342369   0.24359836 0.342369   0.         0.342369   0.\n",
            "  0.342369   0.342369   0.342369   0.         0.48719673]\n",
            " [0.         0.30253071 0.         0.42519636 0.         0.42519636\n",
            "  0.         0.         0.         0.42519636 0.60506143]]\n"
          ]
        }
      ]
    },
    {
      "cell_type": "markdown",
      "source": [
        "Create a small dataset of at least 3 sentences related to animals.\n",
        "\n",
        "Example: \"The cat meows. The dog barks. The bird sings.\"\n",
        "\n",
        "– Write Python code to:\n",
        "\n",
        "• Train a Word2Vec model using gensim.\n",
        "\n",
        "• Retrieve the embedding for the word \"dog\".\n",
        "4. Load the pretrained GloVe model (glove-wiki-gigaword-50) using gensim.\n",
        "\n",
        "– Write Python code to:\n",
        "\n",
        "• Retrieve the embedding for the word \"king\".\n",
        "\n",
        "• Find the 5 most similar words to \"king\"."
      ],
      "metadata": {
        "id": "iZPit8QjO8xv"
      }
    },
    {
      "cell_type": "markdown",
      "source": [
        " The Small Dataset Related to Animals"
      ],
      "metadata": {
        "id": "A2qyXBw9PSqH"
      }
    },
    {
      "cell_type": "code",
      "source": [
        "sentences = [\n",
        "    [\"the\", \"cat\", \"meows\"],\n",
        "    [\"the\", \"dog\", \"barks\"],\n",
        "    [\"the\", \"bird\", \"sings\"]\n",
        "]\n"
      ],
      "metadata": {
        "id": "oS4-m_tNPkr2"
      },
      "execution_count": 3,
      "outputs": []
    },
    {
      "cell_type": "markdown",
      "source": [
        "Train a Word2Vec Model using Gensim"
      ],
      "metadata": {
        "id": "xlUIdttIPrxu"
      }
    },
    {
      "source": [
        "!pip install --upgrade numpy\n",
        "!pip install --upgrade gensim"
      ],
      "cell_type": "code",
      "metadata": {
        "colab": {
          "base_uri": "https://localhost:8080/"
        },
        "id": "teucZReNRjEv",
        "outputId": "6e154043-c634-450d-c9bd-1d9ec6af48ea"
      },
      "execution_count": 1,
      "outputs": [
        {
          "output_type": "stream",
          "name": "stdout",
          "text": [
            "\u001b[33mWARNING: Ignoring invalid distribution ~cipy (/usr/local/lib/python3.11/dist-packages)\u001b[0m\u001b[33m\n",
            "\u001b[0m\u001b[33mWARNING: Ignoring invalid distribution ~cipy (/usr/local/lib/python3.11/dist-packages)\u001b[0m\u001b[33m\n",
            "\u001b[0mRequirement already satisfied: numpy in /usr/local/lib/python3.11/dist-packages (1.24.3)\n",
            "Collecting numpy\n",
            "  Using cached numpy-2.2.4-cp311-cp311-manylinux_2_17_x86_64.manylinux2014_x86_64.whl.metadata (62 kB)\n",
            "Using cached numpy-2.2.4-cp311-cp311-manylinux_2_17_x86_64.manylinux2014_x86_64.whl (16.4 MB)\n",
            "\u001b[33mWARNING: Ignoring invalid distribution ~cipy (/usr/local/lib/python3.11/dist-packages)\u001b[0m\u001b[33m\n",
            "\u001b[0mInstalling collected packages: numpy\n",
            "  Attempting uninstall: numpy\n",
            "    Found existing installation: numpy 1.24.3\n",
            "    Uninstalling numpy-1.24.3:\n",
            "      Successfully uninstalled numpy-1.24.3\n",
            "\u001b[31mERROR: pip's dependency resolver does not currently take into account all the packages that are installed. This behaviour is the source of the following dependency conflicts.\n",
            "gensim 4.3.3 requires scipy<1.14.0,>=1.7.0, which is not installed.\n",
            "mizani 0.13.1 requires scipy>=1.8.0, which is not installed.\n",
            "xgboost 2.1.4 requires scipy, which is not installed.\n",
            "umap-learn 0.5.7 requires scipy>=1.3.1, which is not installed.\n",
            "librosa 0.11.0 requires scipy>=1.6.0, which is not installed.\n",
            "jax 0.5.2 requires scipy>=1.11.1, which is not installed.\n",
            "cuml-cu12 25.2.1 requires scipy>=1.8.0, which is not installed.\n",
            "albumentations 2.0.5 requires scipy>=1.10.0, which is not installed.\n",
            "scikit-image 0.25.2 requires scipy>=1.11.4, which is not installed.\n",
            "hdbscan 0.8.40 requires scipy>=1.0, which is not installed.\n",
            "scs 3.2.7.post2 requires scipy, which is not installed.\n",
            "hyperopt 0.2.7 requires scipy, which is not installed.\n",
            "matplotlib-venn 1.1.2 requires scipy, which is not installed.\n",
            "osqp 1.0.3 requires scipy>=0.13.2, which is not installed.\n",
            "plotnine 0.14.5 requires scipy>=1.8.0, which is not installed.\n",
            "scikit-learn 1.6.1 requires scipy>=1.6.0, which is not installed.\n",
            "mlxtend 0.23.4 requires scipy>=1.2.1, which is not installed.\n",
            "fastai 2.7.19 requires scipy, which is not installed.\n",
            "pymc 5.21.1 requires scipy>=1.4.1, which is not installed.\n",
            "cvxpy 1.6.4 requires scipy>=1.11.0, which is not installed.\n",
            "datascience 0.17.6 requires scipy, which is not installed.\n",
            "missingno 0.5.2 requires scipy, which is not installed.\n",
            "pytensor 2.28.3 requires scipy<2,>=1, which is not installed.\n",
            "xarray-einstats 0.8.0 requires scipy>=1.9, which is not installed.\n",
            "imbalanced-learn 0.13.0 requires scipy<2,>=1.10.1, which is not installed.\n",
            "lightgbm 4.5.0 requires scipy, which is not installed.\n",
            "treelite 4.4.1 requires scipy, which is not installed.\n",
            "yellowbrick 1.5 requires scipy>=1.0.0, which is not installed.\n",
            "arviz 0.21.0 requires scipy>=1.9.0, which is not installed.\n",
            "clarabel 0.10.0 requires scipy, which is not installed.\n",
            "sklearn-pandas 2.2.0 requires scipy>=1.5.1, which is not installed.\n",
            "jaxlib 0.5.1 requires scipy>=1.11.1, which is not installed.\n",
            "shap 0.47.1 requires scipy, which is not installed.\n",
            "statsmodels 0.14.4 requires scipy!=1.9.2,>=1.8, which is not installed.\n",
            "gensim 4.3.3 requires numpy<2.0,>=1.18.5, but you have numpy 2.2.4 which is incompatible.\n",
            "numba 0.60.0 requires numpy<2.1,>=1.22, but you have numpy 2.2.4 which is incompatible.\n",
            "tensorflow 2.18.0 requires numpy<2.1.0,>=1.26.0, but you have numpy 2.2.4 which is incompatible.\u001b[0m\u001b[31m\n",
            "\u001b[0mSuccessfully installed numpy-2.2.4\n",
            "\u001b[33mWARNING: Ignoring invalid distribution ~cipy (/usr/local/lib/python3.11/dist-packages)\u001b[0m\u001b[33m\n",
            "\u001b[0m\u001b[33mWARNING: Ignoring invalid distribution ~cipy (/usr/local/lib/python3.11/dist-packages)\u001b[0m\u001b[33m\n",
            "\u001b[0mRequirement already satisfied: gensim in /usr/local/lib/python3.11/dist-packages (4.3.3)\n",
            "Collecting numpy<2.0,>=1.18.5 (from gensim)\n",
            "  Using cached numpy-1.26.4-cp311-cp311-manylinux_2_17_x86_64.manylinux2014_x86_64.whl.metadata (61 kB)\n",
            "Collecting scipy<1.14.0,>=1.7.0 (from gensim)\n",
            "  Using cached scipy-1.13.1-cp311-cp311-manylinux_2_17_x86_64.manylinux2014_x86_64.whl.metadata (60 kB)\n",
            "Requirement already satisfied: smart-open>=1.8.1 in /usr/local/lib/python3.11/dist-packages (from gensim) (7.1.0)\n",
            "Requirement already satisfied: wrapt in /usr/local/lib/python3.11/dist-packages (from smart-open>=1.8.1->gensim) (1.17.2)\n",
            "Using cached numpy-1.26.4-cp311-cp311-manylinux_2_17_x86_64.manylinux2014_x86_64.whl (18.3 MB)\n",
            "Using cached scipy-1.13.1-cp311-cp311-manylinux_2_17_x86_64.manylinux2014_x86_64.whl (38.6 MB)\n",
            "\u001b[33mWARNING: Ignoring invalid distribution ~cipy (/usr/local/lib/python3.11/dist-packages)\u001b[0m\u001b[33m\n",
            "\u001b[0mInstalling collected packages: numpy, scipy\n",
            "  Attempting uninstall: numpy\n",
            "    Found existing installation: numpy 2.2.4\n",
            "    Uninstalling numpy-2.2.4:\n",
            "      Successfully uninstalled numpy-2.2.4\n",
            "Successfully installed numpy-1.26.4 scipy-1.13.1\n"
          ]
        }
      ]
    },
    {
      "cell_type": "code",
      "source": [
        "from gensim.models import Word2Vec\n",
        "\n",
        "# Train the model\n",
        "model = Word2Vec(sentences, vector_size=50, window=2, min_count=1, workers=2)\n",
        "\n",
        "# Retrieve embedding for the word 'dog'\n",
        "dog_vector = model.wv['dog']\n",
        "print(\"Word2Vec Embedding for 'dog':\\n\", dog_vector)\n"
      ],
      "metadata": {
        "colab": {
          "base_uri": "https://localhost:8080/"
        },
        "id": "PsgTRaD9RyBn",
        "outputId": "474098ba-e924-4b3a-e732-28f6458e20bd"
      },
      "execution_count": 4,
      "outputs": [
        {
          "output_type": "stream",
          "name": "stdout",
          "text": [
            "Word2Vec Embedding for 'dog':\n",
            " [ 0.00018913  0.00615464 -0.01362529 -0.00275093  0.01533716  0.01469282\n",
            " -0.00734659  0.0052854  -0.01663426  0.01241097 -0.00927464 -0.00632821\n",
            "  0.01862271  0.00174677  0.01498141 -0.01214813  0.01032101  0.01984565\n",
            " -0.01691478 -0.01027138 -0.01412967 -0.0097253  -0.00755713 -0.0170724\n",
            "  0.01591121 -0.00968788  0.01684723  0.01052514 -0.01310005  0.00791574\n",
            "  0.0109403  -0.01485307 -0.01481144 -0.00495046 -0.01725145 -0.00316314\n",
            " -0.00080687  0.00659937  0.00288376 -0.00176284 -0.01118812  0.00346073\n",
            " -0.00179474  0.01358738  0.00794718  0.00905894  0.00286861 -0.00539971\n",
            " -0.00873363 -0.00206415]\n"
          ]
        }
      ]
    },
    {
      "cell_type": "markdown",
      "source": [
        " Load the Pretrained GloVe Model (glove-wiki-gigaword-50)"
      ],
      "metadata": {
        "id": "HAu7cqAeSFMP"
      }
    },
    {
      "cell_type": "code",
      "source": [
        "import gensim.downloader as api\n",
        "\n",
        "# Load the GloVe model\n",
        "glove_model = api.load(\"glove-wiki-gigaword-50\")\n",
        "\n",
        "# Get the embedding for \"king\"\n",
        "king_vector = glove_model['king']\n",
        "print(\"GloVe Embedding for 'king':\\n\", king_vector)\n",
        "\n",
        "# Find the 5 most similar words to \"king\"\n",
        "similar_words = glove_model.most_similar('king', topn=5)\n",
        "print(\"Most similar words to 'king':\")\n",
        "for word, score in similar_words:\n",
        "    print(f\"{word}: {score:.4f}\")\n"
      ],
      "metadata": {
        "colab": {
          "base_uri": "https://localhost:8080/"
        },
        "id": "8OB9N-LTSG_n",
        "outputId": "848620d0-24c7-4b3e-9548-187ef595f0dc"
      },
      "execution_count": 5,
      "outputs": [
        {
          "output_type": "stream",
          "name": "stdout",
          "text": [
            "[==================================================] 100.0% 66.0/66.0MB downloaded\n",
            "GloVe Embedding for 'king':\n",
            " [ 0.50451   0.68607  -0.59517  -0.022801  0.60046  -0.13498  -0.08813\n",
            "  0.47377  -0.61798  -0.31012  -0.076666  1.493    -0.034189 -0.98173\n",
            "  0.68229   0.81722  -0.51874  -0.31503  -0.55809   0.66421   0.1961\n",
            " -0.13495  -0.11476  -0.30344   0.41177  -2.223    -1.0756   -1.0783\n",
            " -0.34354   0.33505   1.9927   -0.04234  -0.64319   0.71125   0.49159\n",
            "  0.16754   0.34344  -0.25663  -0.8523    0.1661    0.40102   1.1685\n",
            " -1.0137   -0.21585  -0.15155   0.78321  -0.91241  -1.6106   -0.64426\n",
            " -0.51042 ]\n",
            "Most similar words to 'king':\n",
            "prince: 0.8236\n",
            "queen: 0.7839\n",
            "ii: 0.7746\n",
            "emperor: 0.7736\n",
            "son: 0.7667\n"
          ]
        }
      ]
    }
  ]
}