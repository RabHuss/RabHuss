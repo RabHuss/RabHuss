{
  "nbformat": 4,
  "nbformat_minor": 0,
  "metadata": {
    "colab": {
      "provenance": [],
      "authorship_tag": "ABX9TyOf6QuD/RaQCwXjN5ObcOlf",
      "include_colab_link": true
    },
    "kernelspec": {
      "name": "python3",
      "display_name": "Python 3"
    },
    "language_info": {
      "name": "python"
    }
  },
  "cells": [
    {
      "cell_type": "markdown",
      "metadata": {
        "id": "view-in-github",
        "colab_type": "text"
      },
      "source": [
        "<a href=\"https://colab.research.google.com/github/RabHuss/RabHuss/blob/main/week_2_COVI01_01_FE_23_57474260.ipynb\" target=\"_parent\"><img src=\"https://colab.research.google.com/assets/colab-badge.svg\" alt=\"Open In Colab\"/></a>"
      ]
    },
    {
      "cell_type": "markdown",
      "source": [
        "**QUESTION**  \n",
        "You are tasked with analyzing and pre-processing a dataset (Business Funding\n",
        "Data.csv) containing business funding information in Nigeria. Your goal is to prepare the data\n",
        "for further analysis by applying various preprocessing techniques. This assignment will allow\n",
        "you to explore the data, identify key issues, and apply creative solutions to clean and\n",
        "transform it effectively.\n",
        "Deliverables:\n",
        "● A notebook of a well cleaned Business Funding Data ready for analysis.\n",
        "● Using a Text cell or Markdown in your notebook, answer the following questions.\n",
        "○ Your observations from exploring the data.\n",
        "○ The steps you took to clean, preprocess, and transform the data.\n",
        "○ Justifications for each technique or decision you applied.\n",
        "○ Reflections on the importance of preprocessing in real-world data analysis.\n"
      ],
      "metadata": {
        "id": "1054rpx-RqqS"
      }
    },
    {
      "source": [
        "import pandas as pd\n",
        "import numpy as np\n",
        "import matplotlib.pyplot as plt\n",
        "import seaborn as sns\n",
        "from sklearn.preprocessing import LabelEncoder, OneHotEncoder, StandardScaler\n",
        "\n",
        "# Load the dataset, specifying the encoding as 'latin-1'\n",
        "df = pd.read_csv(\"Business Funding Data.csv\", encoding='latin-1') # Changed line: Added encoding='latin-1'\n",
        "\n",
        "# Display basic information and first few rows\n",
        "print(\"Dataset Info:\")\n",
        "df.info()\n",
        "print(\"\\nFirst 5 rows:\")\n",
        "print(df.head())\n",
        "\n",
        "# Checking for missing values\n",
        "print(\"\\nMissing Values:\")\n",
        "print(df.isnull().sum())"
      ],
      "cell_type": "code",
      "metadata": {
        "colab": {
          "base_uri": "https://localhost:8080/"
        },
        "id": "BD8bsT2bS8C6",
        "outputId": "a4a7edb4-5eb8-4d12-d7eb-451b07b731d8"
      },
      "execution_count": 2,
      "outputs": [
        {
          "output_type": "stream",
          "name": "stdout",
          "text": [
            "Dataset Info:\n",
            "<class 'pandas.core.frame.DataFrame'>\n",
            "RangeIndex: 26 entries, 0 to 25\n",
            "Data columns (total 11 columns):\n",
            " #   Column                     Non-Null Count  Dtype  \n",
            "---  ------                     --------------  -----  \n",
            " 0   Website Domain             26 non-null     object \n",
            " 1   Effective date             6 non-null      object \n",
            " 2   Found At                   26 non-null     object \n",
            " 3   Financing Type             8 non-null      object \n",
            " 4   Financing Type Normalized  8 non-null      object \n",
            " 5   Categories                 26 non-null     object \n",
            " 6   Investors                  13 non-null     object \n",
            " 7   Investors Count            13 non-null     float64\n",
            " 8   Amount                     26 non-null     object \n",
            " 9   Amount Normalized          26 non-null     int64  \n",
            " 10  Source Urls                26 non-null     object \n",
            "dtypes: float64(1), int64(1), object(9)\n",
            "memory usage: 2.4+ KB\n",
            "\n",
            "First 5 rows:\n",
            "  Website Domain Effective date                   Found At Financing Type  \\\n",
            "0  trafigura.com            NaN  2024-03-14T01:00:00+01:00            NaN   \n",
            "1     zenobe.com            NaN  2024-05-31T02:00:00+02:00            NaN   \n",
            "2     zenobe.com            NaN  2024-07-24T02:00:00+02:00            NaN   \n",
            "3      canva.com            NaN  2024-05-01T02:00:00+02:00            NaN   \n",
            "4   fidelity.com            NaN  2024-04-11T02:00:00+02:00            NaN   \n",
            "\n",
            "  Financing Type Normalized          Categories  \\\n",
            "0                       NaN                  []   \n",
            "1                       NaN                  []   \n",
            "2                       NaN  [\"private_equity\"]   \n",
            "3                       NaN                  []   \n",
            "4                       NaN                  []   \n",
            "\n",
            "                                           Investors  Investors Count  \\\n",
            "0                                                NaN              NaN   \n",
            "1  avivainvestors.com, lloydsbankinggroup.com, sa...              9.0   \n",
            "2                                                NaN              NaN   \n",
            "3                              stackcapitalgroup.com              1.0   \n",
            "4                                chevychasetrust.com              1.0   \n",
            "\n",
            "           Amount  Amount Normalized  \\\n",
            "0           $1.9b         1900000000   \n",
            "1  $522.7 million          522700000   \n",
            "2          £41.7m           53671000   \n",
            "3    US$8 million            8000000   \n",
            "4   $1.96 million            1960000   \n",
            "\n",
            "                                         Source Urls  \n",
            "0  https://www.tradefinanceglobal.com/posts/trafi...  \n",
            "1  https://realassets.ipe.com/news/aviva-among-le...  \n",
            "2  https://www.innovationnewsnetwork.com/zenobe-a...  \n",
            "3  https://www.globenewswire.com/news-release/202...  \n",
            "4  https://www.defenseworld.net/2024/04/11/chevy-...  \n",
            "\n",
            "Missing Values:\n",
            "Website Domain                0\n",
            "Effective date               20\n",
            "Found At                      0\n",
            "Financing Type               18\n",
            "Financing Type Normalized    18\n",
            "Categories                    0\n",
            "Investors                    13\n",
            "Investors Count              13\n",
            "Amount                        0\n",
            "Amount Normalized             0\n",
            "Source Urls                   0\n",
            "dtype: int64\n"
          ]
        }
      ]
    },
    {
      "cell_type": "code",
      "source": [
        "# Handling missing values\n",
        "for col in df.columns:\n",
        "    if df[col].dtype == 'object':\n",
        "        df[col].fillna(df[col].mode()[0], inplace=True)  # Fill categorical missing values with mode\n",
        "    else:\n",
        "        df[col].fillna(df[col].median(), inplace=True)  # Fill numerical missing values with median\n",
        "\n",
        "# Removing duplicates\n",
        "df.drop_duplicates(inplace=True)\n",
        "\n",
        "# Converting date columns to datetime format\n",
        "if 'date' in df.columns:\n",
        "    df['date'] = pd.to_datetime(df['date'], errors='coerce')\n"
      ],
      "metadata": {
        "colab": {
          "base_uri": "https://localhost:8080/"
        },
        "id": "Oiw2TDJNTHmy",
        "outputId": "c1d35d3a-cf39-40b3-8fc1-af3a2bab4cb7"
      },
      "execution_count": 3,
      "outputs": [
        {
          "output_type": "stream",
          "name": "stderr",
          "text": [
            "<ipython-input-3-a5b3d79c3297>:4: FutureWarning: A value is trying to be set on a copy of a DataFrame or Series through chained assignment using an inplace method.\n",
            "The behavior will change in pandas 3.0. This inplace method will never work because the intermediate object on which we are setting values always behaves as a copy.\n",
            "\n",
            "For example, when doing 'df[col].method(value, inplace=True)', try using 'df.method({col: value}, inplace=True)' or df[col] = df[col].method(value) instead, to perform the operation inplace on the original object.\n",
            "\n",
            "\n",
            "  df[col].fillna(df[col].mode()[0], inplace=True)  # Fill categorical missing values with mode\n",
            "<ipython-input-3-a5b3d79c3297>:6: FutureWarning: A value is trying to be set on a copy of a DataFrame or Series through chained assignment using an inplace method.\n",
            "The behavior will change in pandas 3.0. This inplace method will never work because the intermediate object on which we are setting values always behaves as a copy.\n",
            "\n",
            "For example, when doing 'df[col].method(value, inplace=True)', try using 'df.method({col: value}, inplace=True)' or df[col] = df[col].method(value) instead, to perform the operation inplace on the original object.\n",
            "\n",
            "\n",
            "  df[col].fillna(df[col].median(), inplace=True)  # Fill numerical missing values with median\n"
          ]
        }
      ]
    },
    {
      "cell_type": "code",
      "source": [
        "# Encoding categorical variables\n",
        "label_enc = LabelEncoder()\n",
        "categorical_cols = df.select_dtypes(include=['object']).columns\n",
        "\n",
        "for col in categorical_cols:\n",
        "    df[col] = label_enc.fit_transform(df[col])\n",
        "\n",
        "# Handling outliers using IQR\n",
        "numerical_cols = df.select_dtypes(include=['int64', 'float64']).columns\n",
        "for col in numerical_cols:\n",
        "    Q1 = df[col].quantile(0.25)\n",
        "    Q3 = df[col].quantile(0.75)\n",
        "    IQR = Q3 - Q1\n",
        "    lower_bound = Q1 - 1.5 * IQR\n",
        "    upper_bound = Q3 + 1.5 * IQR\n",
        "    df[col] = np.where(df[col] < lower_bound, lower_bound, df[col])\n",
        "    df[col] = np.where(df[col] > upper_bound, upper_bound, df[col])\n"
      ],
      "metadata": {
        "id": "H8t_tZg3TVUD"
      },
      "execution_count": 4,
      "outputs": []
    },
    {
      "cell_type": "code",
      "source": [
        "# Standardizing numerical columns\n",
        "scaler = StandardScaler()\n",
        "df[numerical_cols] = scaler.fit_transform(df[numerical_cols])\n",
        "\n",
        "# Display the cleaned dataset\n",
        "print(\"\\nCleaned Dataset:\")\n",
        "print(df.head())\n",
        "\n",
        "# Save the cleaned data\n",
        "df.to_csv(\"Cleaned_Business_Funding_Data.csv\", index=False)"
      ],
      "metadata": {
        "colab": {
          "base_uri": "https://localhost:8080/"
        },
        "id": "1KzO6DkETh3B",
        "outputId": "31811c3e-4304-4986-a8b0-d0bf4caae864"
      },
      "execution_count": 5,
      "outputs": [
        {
          "output_type": "stream",
          "name": "stdout",
          "text": [
            "\n",
            "Cleaned Dataset:\n",
            "   Website Domain  Effective date  Found At  Financing Type  \\\n",
            "0        1.283565             0.0 -1.730152             0.0   \n",
            "1        1.438787             0.0  0.124856             0.0   \n",
            "2        1.438787             0.0  1.516112             0.0   \n",
            "3       -1.199984             0.0 -0.338896             0.0   \n",
            "4       -0.268653             0.0 -1.266400             0.0   \n",
            "\n",
            "   Financing Type Normalized  Categories  Investors  Investors Count  \\\n",
            "0                        0.0    1.023182      -0.75              0.0   \n",
            "1                        0.0    1.023182      -0.25              0.0   \n",
            "2                        0.0   -1.105036      -0.75              0.0   \n",
            "3                        0.0    1.023182       1.75              0.0   \n",
            "4                        0.0    1.023182       0.00              0.0   \n",
            "\n",
            "     Amount  Amount Normalized  Source Urls  \n",
            "0 -1.400000           1.921862     1.666667  \n",
            "1  0.200000           1.921862    -1.000000  \n",
            "2  1.400000           0.493204     0.600000  \n",
            "3  1.133333          -0.630789     0.466667  \n",
            "4 -1.533333          -0.779437    -0.333333  \n"
          ]
        }
      ]
    }
  ]
}